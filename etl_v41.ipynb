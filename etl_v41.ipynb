{
 "cells": [
  {
   "cell_type": "markdown",
   "metadata": {},
   "source": [
    "# ETL v4.1 #"
   ]
  },
  {
   "cell_type": "code",
   "execution_count": 1,
   "metadata": {},
   "outputs": [],
   "source": [
    "import pandas as pd\n",
    "import ast\n",
    "from datetime import datetime"
   ]
  },
  {
   "attachments": {},
   "cell_type": "markdown",
   "metadata": {},
   "source": [
    "## movies_dataset.csv ##  \n",
    "Desanidando los datos anidados"
   ]
  },
  {
   "cell_type": "code",
   "execution_count": 2,
   "metadata": {},
   "outputs": [],
   "source": [
    "df = pd.read_csv('movies_dataset.csv', sep=',', encoding='utf-8', low_memory=False)"
   ]
  },
  {
   "cell_type": "markdown",
   "metadata": {},
   "source": [
    "### Collection ###  \n",
    "Obtener el nombre de 'Collection' en la columna 'btc_name'"
   ]
  },
  {
   "cell_type": "code",
   "execution_count": 3,
   "metadata": {},
   "outputs": [
    {
     "data": {
      "text/html": [
       "<div>\n",
       "<style scoped>\n",
       "    .dataframe tbody tr th:only-of-type {\n",
       "        vertical-align: middle;\n",
       "    }\n",
       "\n",
       "    .dataframe tbody tr th {\n",
       "        vertical-align: top;\n",
       "    }\n",
       "\n",
       "    .dataframe thead th {\n",
       "        text-align: right;\n",
       "    }\n",
       "</style>\n",
       "<table border=\"1\" class=\"dataframe\">\n",
       "  <thead>\n",
       "    <tr style=\"text-align: right;\">\n",
       "      <th></th>\n",
       "      <th>btc_name</th>\n",
       "    </tr>\n",
       "  </thead>\n",
       "  <tbody>\n",
       "    <tr>\n",
       "      <th>0</th>\n",
       "      <td>Toy Story Collection</td>\n",
       "    </tr>\n",
       "    <tr>\n",
       "      <th>1</th>\n",
       "      <td>noc</td>\n",
       "    </tr>\n",
       "    <tr>\n",
       "      <th>2</th>\n",
       "      <td>Grumpy Old Men Collection</td>\n",
       "    </tr>\n",
       "  </tbody>\n",
       "</table>\n",
       "</div>"
      ],
      "text/plain": [
       "                    btc_name\n",
       "0       Toy Story Collection\n",
       "1                        noc\n",
       "2  Grumpy Old Men Collection"
      ]
     },
     "execution_count": 3,
     "metadata": {},
     "output_type": "execute_result"
    }
   ],
   "source": [
    "df['belongs_to_collection'] = df['belongs_to_collection'].fillna('{}')\n",
    "df['belongs_to_collection'] = df['belongs_to_collection'].apply(ast.literal_eval)\n",
    "df_btc = pd.json_normalize(data=df['belongs_to_collection'])\n",
    "df_btc = df_btc.add_prefix('btc_')\n",
    "columnas_borrar = ['btc_id', 'btc_poster_path', 'btc_backdrop_path']\n",
    "df_btc = df_btc.drop(columnas_borrar, axis=1)\n",
    "df_btc = df_btc.fillna('noc')\n",
    "df_btc.head(3)"
   ]
  },
  {
   "cell_type": "markdown",
   "metadata": {},
   "source": [
    "### Genres ###  \n",
    "Obtener una lista de los generos 'genres' en la columna 'genres'"
   ]
  },
  {
   "cell_type": "code",
   "execution_count": 4,
   "metadata": {},
   "outputs": [
    {
     "data": {
      "text/plain": [
       "0     [Animation, Comedy, Family]\n",
       "1    [Adventure, Fantasy, Family]\n",
       "2               [Romance, Comedy]\n",
       "Name: genres, dtype: object"
      ]
     },
     "execution_count": 4,
     "metadata": {},
     "output_type": "execute_result"
    }
   ],
   "source": [
    "df['genres'] = df['genres'].fillna('{}')\n",
    "df['genres'] = df['genres'].apply(ast.literal_eval)\n",
    "df_genres = pd.json_normalize(data=df['genres'])\n",
    "df_genres = df_genres.add_prefix('genre_')\n",
    "df_genres = df_genres.apply(lambda x: x.str.get('name'))\n",
    "df_genres['genres'] = df_genres.apply(lambda row: [value for value in row.values if value is not None], axis=1)\n",
    "df_genres = df_genres['genres']\n",
    "df_genres.head(3)"
   ]
  },
  {
   "cell_type": "markdown",
   "metadata": {},
   "source": [
    "### Production Companies ###  \n",
    "Obtener la lista de 'produccion_companies'en la columna 'companies'"
   ]
  },
  {
   "cell_type": "code",
   "execution_count": 5,
   "metadata": {},
   "outputs": [
    {
     "data": {
      "text/plain": [
       "0                            [Pixar Animation Studios]\n",
       "1    [TriStar Pictures, Teitler Film, Interscope Co...\n",
       "2                       [Warner Bros., Lancaster Gate]\n",
       "Name: companies, dtype: object"
      ]
     },
     "execution_count": 5,
     "metadata": {},
     "output_type": "execute_result"
    }
   ],
   "source": [
    "df['production_companies'] = df['production_companies'].fillna('{}')\n",
    "df['production_companies'] = df['production_companies'].apply(ast.literal_eval)\n",
    "df_companies = pd.json_normalize(data=df['production_companies'])\n",
    "df_companies = df_companies.add_prefix('companies_')\n",
    "df_companies = df_companies.apply(lambda x: x.str.get('name'))\n",
    "df_companies['companies'] = df_companies.apply(lambda row: [value for value in row.values if value is not None], axis=1)\n",
    "df_companies = df_companies['companies']\n",
    "df_companies.head(3)"
   ]
  },
  {
   "cell_type": "markdown",
   "metadata": {},
   "source": [
    "### Production Countries ###  \n",
    "Obtener la lista de 'produccion_countries'en la columna 'countries'"
   ]
  },
  {
   "cell_type": "code",
   "execution_count": 6,
   "metadata": {},
   "outputs": [
    {
     "data": {
      "text/plain": [
       "0    [United States of America]\n",
       "1    [United States of America]\n",
       "2    [United States of America]\n",
       "Name: countries, dtype: object"
      ]
     },
     "execution_count": 6,
     "metadata": {},
     "output_type": "execute_result"
    }
   ],
   "source": [
    "df['production_countries'] = df['production_countries'].fillna('{}')\n",
    "df['production_countries'] = df['production_countries'].apply(ast.literal_eval)\n",
    "df_countries = pd.json_normalize(data=df['production_countries'])\n",
    "df_countries = df_countries.add_prefix('countries_')\n",
    "df_countries = df_countries.apply(lambda x: x.str.get('name'))\n",
    "df_countries['countries'] = df_countries.apply(lambda row: [value for value in row.values if value is not None], axis=1)\n",
    "df_countries = df_countries['countries']\n",
    "df_countries.head(3)"
   ]
  },
  {
   "cell_type": "markdown",
   "metadata": {},
   "source": [
    "### Spoken Languages ###  \n",
    "Obtener la lista de 'spoken_languages'en la columna 'languages'"
   ]
  },
  {
   "cell_type": "code",
   "execution_count": 7,
   "metadata": {},
   "outputs": [
    {
     "data": {
      "text/plain": [
       "0              [English]\n",
       "1    [English, Français]\n",
       "2              [English]\n",
       "Name: languages, dtype: object"
      ]
     },
     "execution_count": 7,
     "metadata": {},
     "output_type": "execute_result"
    }
   ],
   "source": [
    "df['spoken_languages'] = df['spoken_languages'].fillna('{}')\n",
    "df['spoken_languages'] = df['spoken_languages'].apply(ast.literal_eval)\n",
    "df_languages = pd.json_normalize(data=df['spoken_languages'])\n",
    "df_languages = df_languages.add_prefix('languages_')\n",
    "df_languages = df_languages.apply(lambda x: x.str.get('name'))\n",
    "df_languages['languages'] = df_languages.apply(lambda row: [value for value in row.values if value is not None], axis=1)\n",
    "df_languages = df_languages['languages']\n",
    "df_languages.head(3)"
   ]
  },
  {
   "cell_type": "markdown",
   "metadata": {},
   "source": [
    "### Borrar columnas innecesarias ###"
   ]
  },
  {
   "cell_type": "code",
   "execution_count": 8,
   "metadata": {},
   "outputs": [
    {
     "name": "stdout",
     "output_type": "stream",
     "text": [
      "<class 'pandas.core.frame.DataFrame'>\n",
      "Index: 44512 entries, 0 to 45465\n",
      "Data columns (total 24 columns):\n",
      " #   Column                 Non-Null Count  Dtype  \n",
      "---  ------                 --------------  -----  \n",
      " 0   adult                  44512 non-null  object \n",
      " 1   belongs_to_collection  44512 non-null  object \n",
      " 2   budget                 44512 non-null  object \n",
      " 3   genres                 44512 non-null  object \n",
      " 4   homepage               7765 non-null   object \n",
      " 5   id                     44512 non-null  object \n",
      " 6   imdb_id                44497 non-null  object \n",
      " 7   original_language      44502 non-null  object \n",
      " 8   original_title         44512 non-null  object \n",
      " 9   overview               44512 non-null  object \n",
      " 10  popularity             44507 non-null  object \n",
      " 11  poster_path            44166 non-null  object \n",
      " 12  production_companies   44512 non-null  object \n",
      " 13  production_countries   44512 non-null  object \n",
      " 14  release_date           44438 non-null  object \n",
      " 15  revenue                44506 non-null  float64\n",
      " 16  runtime                44506 non-null  float64\n",
      " 17  spoken_languages       44512 non-null  object \n",
      " 18  status                 44441 non-null  object \n",
      " 19  tagline                20404 non-null  object \n",
      " 20  title                  44506 non-null  object \n",
      " 21  video                  44506 non-null  object \n",
      " 22  vote_average           44506 non-null  float64\n",
      " 23  vote_count             44506 non-null  float64\n",
      "dtypes: float64(4), object(20)\n",
      "memory usage: 8.5+ MB\n"
     ]
    }
   ],
   "source": [
    "df= df.dropna(subset='overview')\n",
    "df.info()"
   ]
  },
  {
   "cell_type": "code",
   "execution_count": 9,
   "metadata": {},
   "outputs": [
    {
     "name": "stdout",
     "output_type": "stream",
     "text": [
      "<class 'pandas.core.frame.DataFrame'>\n",
      "Index: 44512 entries, 0 to 45465\n",
      "Data columns (total 13 columns):\n",
      " #   Column             Non-Null Count  Dtype  \n",
      "---  ------             --------------  -----  \n",
      " 0   budget             44512 non-null  object \n",
      " 1   id                 44512 non-null  object \n",
      " 2   original_language  44502 non-null  object \n",
      " 3   overview           44512 non-null  object \n",
      " 4   popularity         44507 non-null  object \n",
      " 5   release_date       44438 non-null  object \n",
      " 6   revenue            44506 non-null  float64\n",
      " 7   runtime            44506 non-null  float64\n",
      " 8   status             44441 non-null  object \n",
      " 9   tagline            20404 non-null  object \n",
      " 10  title              44506 non-null  object \n",
      " 11  vote_average       44506 non-null  float64\n",
      " 12  vote_count         44506 non-null  float64\n",
      "dtypes: float64(4), object(9)\n",
      "memory usage: 4.8+ MB\n"
     ]
    }
   ],
   "source": [
    "# columnas borrar del df original 'movies_dataset'\n",
    "columnas_borrar = ['video', 'imdb_id', 'adult', 'original_title', 'poster_path', 'homepage', \n",
    "                   'belongs_to_collection', 'genres', 'production_companies', \n",
    "                   'production_countries', 'spoken_languages']\n",
    "df = df.drop(columnas_borrar, axis=1)\n",
    "df.info()"
   ]
  },
  {
   "cell_type": "markdown",
   "metadata": {},
   "source": [
    "### Crear df con nuevas columas de datos 'desanidados\" ###\n",
    "En 'df_movies' se incorporan las columnas de datos desanidados obtenidas anteriormente"
   ]
  },
  {
   "cell_type": "code",
   "execution_count": 10,
   "metadata": {},
   "outputs": [],
   "source": [
    "# concatenado de todos los df\n",
    "df_movies = pd.concat([df, df_btc, df_genres, df_companies, df_countries, df_languages], axis=1)"
   ]
  },
  {
   "cell_type": "markdown",
   "metadata": {},
   "source": [
    "### Limpieza de datos y relleno de valores nulos ###  \n"
   ]
  },
  {
   "cell_type": "code",
   "execution_count": 11,
   "metadata": {},
   "outputs": [],
   "source": [
    "# elimino las filas cuyo 'id' no es numérico\n",
    "df_movies['id'] = pd.to_numeric(df_movies['id'], errors='coerce')\n",
    "df_movies = df_movies.dropna(subset=['id'])\n",
    "df_movies['id'] = df_movies['id'].astype('int64')"
   ]
  },
  {
   "cell_type": "code",
   "execution_count": 12,
   "metadata": {},
   "outputs": [],
   "source": [
    "# rellenar valores nulos\n",
    "df_movies['revenue'] = df_movies['revenue'].fillna(0)\n",
    "df_movies['budget'] = df_movies['budget'].fillna(0)\n",
    "df_movies['budget'] = pd.to_numeric(df['budget'], errors='coerce')"
   ]
  },
  {
   "cell_type": "code",
   "execution_count": 13,
   "metadata": {},
   "outputs": [],
   "source": [
    "# eliminar los valores nulos de 'release_date'\n",
    "df_movies  = df_movies.dropna(subset='release_date')"
   ]
  },
  {
   "cell_type": "markdown",
   "metadata": {},
   "source": [
    "### Crear la columna 'release_year' ###"
   ]
  },
  {
   "cell_type": "code",
   "execution_count": 14,
   "metadata": {},
   "outputs": [],
   "source": [
    "def convertir_fecha(fecha_str):\n",
    "    try:\n",
    "        fecha = datetime.strptime(fecha_str, \"%Y-%m-%d\").date()\n",
    "        return fecha\n",
    "    except ValueError:\n",
    "        return None\n",
    "\n",
    "df_movies['release_date'] = df_movies['release_date'].apply(convertir_fecha)"
   ]
  },
  {
   "cell_type": "code",
   "execution_count": 15,
   "metadata": {},
   "outputs": [],
   "source": [
    "def obtener_año(fecha):\n",
    "    try:\n",
    "        return fecha.year\n",
    "    except AttributeError:\n",
    "        return None\n",
    "    \n",
    "df_movies['release_year'] = df_movies['release_date'].apply(obtener_año)\n",
    "df_movies['release_year'] = df_movies['release_year'].fillna(-1)\n",
    "df_movies['release_year'] = df_movies['release_year'].astype(int)  # Convertir el año a entero"
   ]
  },
  {
   "cell_type": "markdown",
   "metadata": {},
   "source": [
    "### Crear la columna retorno de inversión 'return' ###"
   ]
  },
  {
   "cell_type": "code",
   "execution_count": 16,
   "metadata": {},
   "outputs": [],
   "source": [
    "# crear columna con retorno de inversion\n",
    "def calcular_retorno(row):\n",
    "    revenue = row['revenue']\n",
    "    budget = row['budget']\n",
    "    if revenue is not None and budget is not None and budget != 0:\n",
    "        return revenue / budget\n",
    "    else:\n",
    "        return 0\n",
    "\n",
    "df_movies['return'] = df_movies.apply(calcular_retorno, axis=1)"
   ]
  },
  {
   "cell_type": "code",
   "execution_count": 17,
   "metadata": {},
   "outputs": [
    {
     "name": "stdout",
     "output_type": "stream",
     "text": [
      "<class 'pandas.core.frame.DataFrame'>\n",
      "Index: 44435 entries, 0 to 45465\n",
      "Data columns (total 20 columns):\n",
      " #   Column             Non-Null Count  Dtype  \n",
      "---  ------             --------------  -----  \n",
      " 0   budget             44435 non-null  float64\n",
      " 1   id                 44435 non-null  int64  \n",
      " 2   original_language  44425 non-null  object \n",
      " 3   overview           44435 non-null  object \n",
      " 4   popularity         44435 non-null  object \n",
      " 5   release_date       44435 non-null  object \n",
      " 6   revenue            44435 non-null  float64\n",
      " 7   runtime            44435 non-null  float64\n",
      " 8   status             44371 non-null  object \n",
      " 9   tagline            20390 non-null  object \n",
      " 10  title              44435 non-null  object \n",
      " 11  vote_average       44435 non-null  float64\n",
      " 12  vote_count         44435 non-null  float64\n",
      " 13  btc_name           44435 non-null  object \n",
      " 14  genres             44435 non-null  object \n",
      " 15  companies          44435 non-null  object \n",
      " 16  countries          44435 non-null  object \n",
      " 17  languages          44435 non-null  object \n",
      " 18  release_year       44435 non-null  int32  \n",
      " 19  return             44435 non-null  float64\n",
      "dtypes: float64(6), int32(1), int64(1), object(12)\n",
      "memory usage: 6.9+ MB\n"
     ]
    }
   ],
   "source": [
    "df_movies.info()"
   ]
  },
  {
   "cell_type": "code",
   "execution_count": 18,
   "metadata": {},
   "outputs": [
    {
     "data": {
      "text/plain": [
       "(44435, 20)"
      ]
     },
     "execution_count": 18,
     "metadata": {},
     "output_type": "execute_result"
    }
   ],
   "source": [
    "df_movies.shape"
   ]
  },
  {
   "cell_type": "code",
   "execution_count": 19,
   "metadata": {},
   "outputs": [
    {
     "data": {
      "text/html": [
       "<div>\n",
       "<style scoped>\n",
       "    .dataframe tbody tr th:only-of-type {\n",
       "        vertical-align: middle;\n",
       "    }\n",
       "\n",
       "    .dataframe tbody tr th {\n",
       "        vertical-align: top;\n",
       "    }\n",
       "\n",
       "    .dataframe thead th {\n",
       "        text-align: right;\n",
       "    }\n",
       "</style>\n",
       "<table border=\"1\" class=\"dataframe\">\n",
       "  <thead>\n",
       "    <tr style=\"text-align: right;\">\n",
       "      <th></th>\n",
       "      <th>budget</th>\n",
       "      <th>id</th>\n",
       "      <th>original_language</th>\n",
       "      <th>overview</th>\n",
       "      <th>popularity</th>\n",
       "      <th>release_date</th>\n",
       "      <th>revenue</th>\n",
       "      <th>runtime</th>\n",
       "      <th>status</th>\n",
       "      <th>tagline</th>\n",
       "      <th>title</th>\n",
       "      <th>vote_average</th>\n",
       "      <th>vote_count</th>\n",
       "      <th>btc_name</th>\n",
       "      <th>genres</th>\n",
       "      <th>companies</th>\n",
       "      <th>countries</th>\n",
       "      <th>languages</th>\n",
       "      <th>release_year</th>\n",
       "      <th>return</th>\n",
       "    </tr>\n",
       "  </thead>\n",
       "  <tbody>\n",
       "    <tr>\n",
       "      <th>0</th>\n",
       "      <td>30000000.0</td>\n",
       "      <td>862</td>\n",
       "      <td>en</td>\n",
       "      <td>Led by Woody, Andy's toys live happily in his ...</td>\n",
       "      <td>21.946943</td>\n",
       "      <td>1995-10-30</td>\n",
       "      <td>373554033.0</td>\n",
       "      <td>81.0</td>\n",
       "      <td>Released</td>\n",
       "      <td>NaN</td>\n",
       "      <td>Toy Story</td>\n",
       "      <td>7.7</td>\n",
       "      <td>5415.0</td>\n",
       "      <td>Toy Story Collection</td>\n",
       "      <td>[Animation, Comedy, Family]</td>\n",
       "      <td>[Pixar Animation Studios]</td>\n",
       "      <td>[United States of America]</td>\n",
       "      <td>[English]</td>\n",
       "      <td>1995</td>\n",
       "      <td>12.451801</td>\n",
       "    </tr>\n",
       "    <tr>\n",
       "      <th>1</th>\n",
       "      <td>65000000.0</td>\n",
       "      <td>8844</td>\n",
       "      <td>en</td>\n",
       "      <td>When siblings Judy and Peter discover an encha...</td>\n",
       "      <td>17.015539</td>\n",
       "      <td>1995-12-15</td>\n",
       "      <td>262797249.0</td>\n",
       "      <td>104.0</td>\n",
       "      <td>Released</td>\n",
       "      <td>Roll the dice and unleash the excitement!</td>\n",
       "      <td>Jumanji</td>\n",
       "      <td>6.9</td>\n",
       "      <td>2413.0</td>\n",
       "      <td>noc</td>\n",
       "      <td>[Adventure, Fantasy, Family]</td>\n",
       "      <td>[TriStar Pictures, Teitler Film, Interscope Co...</td>\n",
       "      <td>[United States of America]</td>\n",
       "      <td>[English, Français]</td>\n",
       "      <td>1995</td>\n",
       "      <td>4.043035</td>\n",
       "    </tr>\n",
       "    <tr>\n",
       "      <th>2</th>\n",
       "      <td>0.0</td>\n",
       "      <td>15602</td>\n",
       "      <td>en</td>\n",
       "      <td>A family wedding reignites the ancient feud be...</td>\n",
       "      <td>11.7129</td>\n",
       "      <td>1995-12-22</td>\n",
       "      <td>0.0</td>\n",
       "      <td>101.0</td>\n",
       "      <td>Released</td>\n",
       "      <td>Still Yelling. Still Fighting. Still Ready for...</td>\n",
       "      <td>Grumpier Old Men</td>\n",
       "      <td>6.5</td>\n",
       "      <td>92.0</td>\n",
       "      <td>Grumpy Old Men Collection</td>\n",
       "      <td>[Romance, Comedy]</td>\n",
       "      <td>[Warner Bros., Lancaster Gate]</td>\n",
       "      <td>[United States of America]</td>\n",
       "      <td>[English]</td>\n",
       "      <td>1995</td>\n",
       "      <td>0.000000</td>\n",
       "    </tr>\n",
       "    <tr>\n",
       "      <th>3</th>\n",
       "      <td>16000000.0</td>\n",
       "      <td>31357</td>\n",
       "      <td>en</td>\n",
       "      <td>Cheated on, mistreated and stepped on, the wom...</td>\n",
       "      <td>3.859495</td>\n",
       "      <td>1995-12-22</td>\n",
       "      <td>81452156.0</td>\n",
       "      <td>127.0</td>\n",
       "      <td>Released</td>\n",
       "      <td>Friends are the people who let you be yourself...</td>\n",
       "      <td>Waiting to Exhale</td>\n",
       "      <td>6.1</td>\n",
       "      <td>34.0</td>\n",
       "      <td>noc</td>\n",
       "      <td>[Comedy, Drama, Romance]</td>\n",
       "      <td>[Twentieth Century Fox Film Corporation]</td>\n",
       "      <td>[United States of America]</td>\n",
       "      <td>[English]</td>\n",
       "      <td>1995</td>\n",
       "      <td>5.090760</td>\n",
       "    </tr>\n",
       "    <tr>\n",
       "      <th>4</th>\n",
       "      <td>0.0</td>\n",
       "      <td>11862</td>\n",
       "      <td>en</td>\n",
       "      <td>Just when George Banks has recovered from his ...</td>\n",
       "      <td>8.387519</td>\n",
       "      <td>1995-02-10</td>\n",
       "      <td>76578911.0</td>\n",
       "      <td>106.0</td>\n",
       "      <td>Released</td>\n",
       "      <td>Just When His World Is Back To Normal... He's ...</td>\n",
       "      <td>Father of the Bride Part II</td>\n",
       "      <td>5.7</td>\n",
       "      <td>173.0</td>\n",
       "      <td>Father of the Bride Collection</td>\n",
       "      <td>[Comedy]</td>\n",
       "      <td>[Sandollar Productions, Touchstone Pictures]</td>\n",
       "      <td>[United States of America]</td>\n",
       "      <td>[English]</td>\n",
       "      <td>1995</td>\n",
       "      <td>0.000000</td>\n",
       "    </tr>\n",
       "  </tbody>\n",
       "</table>\n",
       "</div>"
      ],
      "text/plain": [
       "       budget     id original_language   \n",
       "0  30000000.0    862                en  \\\n",
       "1  65000000.0   8844                en   \n",
       "2         0.0  15602                en   \n",
       "3  16000000.0  31357                en   \n",
       "4         0.0  11862                en   \n",
       "\n",
       "                                            overview popularity release_date   \n",
       "0  Led by Woody, Andy's toys live happily in his ...  21.946943   1995-10-30  \\\n",
       "1  When siblings Judy and Peter discover an encha...  17.015539   1995-12-15   \n",
       "2  A family wedding reignites the ancient feud be...    11.7129   1995-12-22   \n",
       "3  Cheated on, mistreated and stepped on, the wom...   3.859495   1995-12-22   \n",
       "4  Just when George Banks has recovered from his ...   8.387519   1995-02-10   \n",
       "\n",
       "       revenue  runtime    status   \n",
       "0  373554033.0     81.0  Released  \\\n",
       "1  262797249.0    104.0  Released   \n",
       "2          0.0    101.0  Released   \n",
       "3   81452156.0    127.0  Released   \n",
       "4   76578911.0    106.0  Released   \n",
       "\n",
       "                                             tagline   \n",
       "0                                                NaN  \\\n",
       "1          Roll the dice and unleash the excitement!   \n",
       "2  Still Yelling. Still Fighting. Still Ready for...   \n",
       "3  Friends are the people who let you be yourself...   \n",
       "4  Just When His World Is Back To Normal... He's ...   \n",
       "\n",
       "                         title  vote_average  vote_count   \n",
       "0                    Toy Story           7.7      5415.0  \\\n",
       "1                      Jumanji           6.9      2413.0   \n",
       "2             Grumpier Old Men           6.5        92.0   \n",
       "3            Waiting to Exhale           6.1        34.0   \n",
       "4  Father of the Bride Part II           5.7       173.0   \n",
       "\n",
       "                         btc_name                        genres   \n",
       "0            Toy Story Collection   [Animation, Comedy, Family]  \\\n",
       "1                             noc  [Adventure, Fantasy, Family]   \n",
       "2       Grumpy Old Men Collection             [Romance, Comedy]   \n",
       "3                             noc      [Comedy, Drama, Romance]   \n",
       "4  Father of the Bride Collection                      [Comedy]   \n",
       "\n",
       "                                           companies   \n",
       "0                          [Pixar Animation Studios]  \\\n",
       "1  [TriStar Pictures, Teitler Film, Interscope Co...   \n",
       "2                     [Warner Bros., Lancaster Gate]   \n",
       "3           [Twentieth Century Fox Film Corporation]   \n",
       "4       [Sandollar Productions, Touchstone Pictures]   \n",
       "\n",
       "                    countries            languages  release_year     return  \n",
       "0  [United States of America]            [English]          1995  12.451801  \n",
       "1  [United States of America]  [English, Français]          1995   4.043035  \n",
       "2  [United States of America]            [English]          1995   0.000000  \n",
       "3  [United States of America]            [English]          1995   5.090760  \n",
       "4  [United States of America]            [English]          1995   0.000000  "
      ]
     },
     "execution_count": 19,
     "metadata": {},
     "output_type": "execute_result"
    }
   ],
   "source": [
    "df_movies.head()"
   ]
  },
  {
   "attachments": {},
   "cell_type": "markdown",
   "metadata": {},
   "source": [
    "# credits.csv #"
   ]
  },
  {
   "cell_type": "code",
   "execution_count": 21,
   "metadata": {},
   "outputs": [],
   "source": [
    "df_credits = pd.read_csv('credits.csv', sep=',', encoding='utf-8', low_memory=False)"
   ]
  },
  {
   "cell_type": "code",
   "execution_count": 22,
   "metadata": {},
   "outputs": [
    {
     "name": "stdout",
     "output_type": "stream",
     "text": [
      "<class 'pandas.core.frame.DataFrame'>\n",
      "RangeIndex: 45476 entries, 0 to 45475\n",
      "Data columns (total 3 columns):\n",
      " #   Column  Non-Null Count  Dtype \n",
      "---  ------  --------------  ----- \n",
      " 0   cast    45476 non-null  object\n",
      " 1   crew    45476 non-null  object\n",
      " 2   id      45476 non-null  int64 \n",
      "dtypes: int64(1), object(2)\n",
      "memory usage: 1.0+ MB\n"
     ]
    }
   ],
   "source": [
    "df_credits.info()"
   ]
  },
  {
   "cell_type": "markdown",
   "metadata": {},
   "source": [
    "### Cast ###  \n",
    "Obtener la lista de 'cast' en la columna 'Cast'"
   ]
  },
  {
   "cell_type": "code",
   "execution_count": 23,
   "metadata": {},
   "outputs": [],
   "source": [
    "df_credits['cast'] = df_credits['cast'].apply(ast.literal_eval)\n",
    "\n",
    "def get_cast(cast_list):\n",
    "    casts = [d['name'] for d in cast_list]\n",
    "    return casts if casts else None\n",
    "\n",
    "df_credits['Cast'] = df_credits['cast'].apply(get_cast)"
   ]
  },
  {
   "cell_type": "markdown",
   "metadata": {},
   "source": [
    "### Directors ###  \n",
    "Obtener los directores en la columna 'Directors'"
   ]
  },
  {
   "cell_type": "code",
   "execution_count": 24,
   "metadata": {},
   "outputs": [],
   "source": [
    "df_credits['crew'] = df_credits['crew'].apply(ast.literal_eval)\n",
    "\n",
    "# Crear una función para obtener una lista de nombres de directores si el trabajo es 'Director'\n",
    "def get_directors(crew_list):\n",
    "    directors = [d['name'] for d in crew_list if d['job'] == 'Director']\n",
    "    return directors if directors else None\n",
    "\n",
    "# Aplicar la función a la columna 'crew' y asignar el resultado a una nueva columna 'Directors'\n",
    "df_credits['Directors'] = df_credits['crew'].apply(get_directors)\n",
    "df_credits['Directors'] = df_credits['Directors'].fillna('[]')"
   ]
  },
  {
   "cell_type": "code",
   "execution_count": 25,
   "metadata": {},
   "outputs": [],
   "source": [
    "# borrar columnas\n",
    "columnas_borrar = ['cast', 'crew']\n",
    "df_credits = df_credits.drop(columnas_borrar, axis=1)"
   ]
  },
  {
   "cell_type": "code",
   "execution_count": 26,
   "metadata": {},
   "outputs": [
    {
     "name": "stdout",
     "output_type": "stream",
     "text": [
      "<class 'pandas.core.frame.DataFrame'>\n",
      "RangeIndex: 45476 entries, 0 to 45475\n",
      "Data columns (total 3 columns):\n",
      " #   Column     Non-Null Count  Dtype \n",
      "---  ------     --------------  ----- \n",
      " 0   id         45476 non-null  int64 \n",
      " 1   Cast       43058 non-null  object\n",
      " 2   Directors  45476 non-null  object\n",
      "dtypes: int64(1), object(2)\n",
      "memory usage: 1.0+ MB\n"
     ]
    }
   ],
   "source": [
    "df_credits.info()"
   ]
  },
  {
   "cell_type": "code",
   "execution_count": 27,
   "metadata": {},
   "outputs": [
    {
     "data": {
      "text/plain": [
       "(45476, 3)"
      ]
     },
     "execution_count": 27,
     "metadata": {},
     "output_type": "execute_result"
    }
   ],
   "source": [
    "df_credits.shape"
   ]
  },
  {
   "cell_type": "code",
   "execution_count": 28,
   "metadata": {},
   "outputs": [
    {
     "data": {
      "text/html": [
       "<div>\n",
       "<style scoped>\n",
       "    .dataframe tbody tr th:only-of-type {\n",
       "        vertical-align: middle;\n",
       "    }\n",
       "\n",
       "    .dataframe tbody tr th {\n",
       "        vertical-align: top;\n",
       "    }\n",
       "\n",
       "    .dataframe thead th {\n",
       "        text-align: right;\n",
       "    }\n",
       "</style>\n",
       "<table border=\"1\" class=\"dataframe\">\n",
       "  <thead>\n",
       "    <tr style=\"text-align: right;\">\n",
       "      <th></th>\n",
       "      <th>id</th>\n",
       "      <th>Cast</th>\n",
       "      <th>Directors</th>\n",
       "    </tr>\n",
       "  </thead>\n",
       "  <tbody>\n",
       "    <tr>\n",
       "      <th>0</th>\n",
       "      <td>862</td>\n",
       "      <td>[Tom Hanks, Tim Allen, Don Rickles, Jim Varney...</td>\n",
       "      <td>[John Lasseter]</td>\n",
       "    </tr>\n",
       "    <tr>\n",
       "      <th>1</th>\n",
       "      <td>8844</td>\n",
       "      <td>[Robin Williams, Jonathan Hyde, Kirsten Dunst,...</td>\n",
       "      <td>[Joe Johnston]</td>\n",
       "    </tr>\n",
       "    <tr>\n",
       "      <th>2</th>\n",
       "      <td>15602</td>\n",
       "      <td>[Walter Matthau, Jack Lemmon, Ann-Margret, Sop...</td>\n",
       "      <td>[Howard Deutch]</td>\n",
       "    </tr>\n",
       "  </tbody>\n",
       "</table>\n",
       "</div>"
      ],
      "text/plain": [
       "      id                                               Cast        Directors\n",
       "0    862  [Tom Hanks, Tim Allen, Don Rickles, Jim Varney...  [John Lasseter]\n",
       "1   8844  [Robin Williams, Jonathan Hyde, Kirsten Dunst,...   [Joe Johnston]\n",
       "2  15602  [Walter Matthau, Jack Lemmon, Ann-Margret, Sop...  [Howard Deutch]"
      ]
     },
     "execution_count": 28,
     "metadata": {},
     "output_type": "execute_result"
    }
   ],
   "source": [
    "df_credits.head(3)"
   ]
  },
  {
   "attachments": {},
   "cell_type": "markdown",
   "metadata": {},
   "source": [
    "# Combinación de los datasets provistos #  \n",
    "Utilizando 'merge' se combinan los datasets  \n",
    "- movies_dataset.csv\n",
    "- credits.csv"
   ]
  },
  {
   "cell_type": "code",
   "execution_count": 29,
   "metadata": {},
   "outputs": [],
   "source": [
    "df_MoviesDataset = pd.merge(df_movies, df_credits, on='id')"
   ]
  },
  {
   "cell_type": "code",
   "execution_count": 30,
   "metadata": {},
   "outputs": [
    {
     "name": "stdout",
     "output_type": "stream",
     "text": [
      "<class 'pandas.core.frame.DataFrame'>\n",
      "RangeIndex: 44510 entries, 0 to 44509\n",
      "Data columns (total 22 columns):\n",
      " #   Column             Non-Null Count  Dtype  \n",
      "---  ------             --------------  -----  \n",
      " 0   budget             44510 non-null  float64\n",
      " 1   id                 44510 non-null  int64  \n",
      " 2   original_language  44500 non-null  object \n",
      " 3   overview           44510 non-null  object \n",
      " 4   popularity         44510 non-null  object \n",
      " 5   release_date       44510 non-null  object \n",
      " 6   revenue            44510 non-null  float64\n",
      " 7   runtime            44510 non-null  float64\n",
      " 8   status             44446 non-null  object \n",
      " 9   tagline            20417 non-null  object \n",
      " 10  title              44510 non-null  object \n",
      " 11  vote_average       44510 non-null  float64\n",
      " 12  vote_count         44510 non-null  float64\n",
      " 13  btc_name           44510 non-null  object \n",
      " 14  genres             44510 non-null  object \n",
      " 15  companies          44510 non-null  object \n",
      " 16  countries          44510 non-null  object \n",
      " 17  languages          44510 non-null  object \n",
      " 18  release_year       44510 non-null  int32  \n",
      " 19  return             44510 non-null  float64\n",
      " 20  Cast               42224 non-null  object \n",
      " 21  Directors          44510 non-null  object \n",
      "dtypes: float64(6), int32(1), int64(1), object(14)\n",
      "memory usage: 7.3+ MB\n"
     ]
    }
   ],
   "source": [
    "df_MoviesDataset.info()"
   ]
  },
  {
   "cell_type": "code",
   "execution_count": 31,
   "metadata": {},
   "outputs": [
    {
     "data": {
      "text/plain": [
       "(44510, 22)"
      ]
     },
     "execution_count": 31,
     "metadata": {},
     "output_type": "execute_result"
    }
   ],
   "source": [
    "df_MoviesDataset.shape"
   ]
  },
  {
   "cell_type": "code",
   "execution_count": 32,
   "metadata": {},
   "outputs": [
    {
     "data": {
      "text/html": [
       "<div>\n",
       "<style scoped>\n",
       "    .dataframe tbody tr th:only-of-type {\n",
       "        vertical-align: middle;\n",
       "    }\n",
       "\n",
       "    .dataframe tbody tr th {\n",
       "        vertical-align: top;\n",
       "    }\n",
       "\n",
       "    .dataframe thead th {\n",
       "        text-align: right;\n",
       "    }\n",
       "</style>\n",
       "<table border=\"1\" class=\"dataframe\">\n",
       "  <thead>\n",
       "    <tr style=\"text-align: right;\">\n",
       "      <th></th>\n",
       "      <th>budget</th>\n",
       "      <th>id</th>\n",
       "      <th>original_language</th>\n",
       "      <th>overview</th>\n",
       "      <th>popularity</th>\n",
       "      <th>release_date</th>\n",
       "      <th>revenue</th>\n",
       "      <th>runtime</th>\n",
       "      <th>status</th>\n",
       "      <th>tagline</th>\n",
       "      <th>...</th>\n",
       "      <th>vote_count</th>\n",
       "      <th>btc_name</th>\n",
       "      <th>genres</th>\n",
       "      <th>companies</th>\n",
       "      <th>countries</th>\n",
       "      <th>languages</th>\n",
       "      <th>release_year</th>\n",
       "      <th>return</th>\n",
       "      <th>Cast</th>\n",
       "      <th>Directors</th>\n",
       "    </tr>\n",
       "  </thead>\n",
       "  <tbody>\n",
       "    <tr>\n",
       "      <th>0</th>\n",
       "      <td>30000000.0</td>\n",
       "      <td>862</td>\n",
       "      <td>en</td>\n",
       "      <td>Led by Woody, Andy's toys live happily in his ...</td>\n",
       "      <td>21.946943</td>\n",
       "      <td>1995-10-30</td>\n",
       "      <td>373554033.0</td>\n",
       "      <td>81.0</td>\n",
       "      <td>Released</td>\n",
       "      <td>NaN</td>\n",
       "      <td>...</td>\n",
       "      <td>5415.0</td>\n",
       "      <td>Toy Story Collection</td>\n",
       "      <td>[Animation, Comedy, Family]</td>\n",
       "      <td>[Pixar Animation Studios]</td>\n",
       "      <td>[United States of America]</td>\n",
       "      <td>[English]</td>\n",
       "      <td>1995</td>\n",
       "      <td>12.451801</td>\n",
       "      <td>[Tom Hanks, Tim Allen, Don Rickles, Jim Varney...</td>\n",
       "      <td>[John Lasseter]</td>\n",
       "    </tr>\n",
       "    <tr>\n",
       "      <th>1</th>\n",
       "      <td>65000000.0</td>\n",
       "      <td>8844</td>\n",
       "      <td>en</td>\n",
       "      <td>When siblings Judy and Peter discover an encha...</td>\n",
       "      <td>17.015539</td>\n",
       "      <td>1995-12-15</td>\n",
       "      <td>262797249.0</td>\n",
       "      <td>104.0</td>\n",
       "      <td>Released</td>\n",
       "      <td>Roll the dice and unleash the excitement!</td>\n",
       "      <td>...</td>\n",
       "      <td>2413.0</td>\n",
       "      <td>noc</td>\n",
       "      <td>[Adventure, Fantasy, Family]</td>\n",
       "      <td>[TriStar Pictures, Teitler Film, Interscope Co...</td>\n",
       "      <td>[United States of America]</td>\n",
       "      <td>[English, Français]</td>\n",
       "      <td>1995</td>\n",
       "      <td>4.043035</td>\n",
       "      <td>[Robin Williams, Jonathan Hyde, Kirsten Dunst,...</td>\n",
       "      <td>[Joe Johnston]</td>\n",
       "    </tr>\n",
       "    <tr>\n",
       "      <th>2</th>\n",
       "      <td>0.0</td>\n",
       "      <td>15602</td>\n",
       "      <td>en</td>\n",
       "      <td>A family wedding reignites the ancient feud be...</td>\n",
       "      <td>11.7129</td>\n",
       "      <td>1995-12-22</td>\n",
       "      <td>0.0</td>\n",
       "      <td>101.0</td>\n",
       "      <td>Released</td>\n",
       "      <td>Still Yelling. Still Fighting. Still Ready for...</td>\n",
       "      <td>...</td>\n",
       "      <td>92.0</td>\n",
       "      <td>Grumpy Old Men Collection</td>\n",
       "      <td>[Romance, Comedy]</td>\n",
       "      <td>[Warner Bros., Lancaster Gate]</td>\n",
       "      <td>[United States of America]</td>\n",
       "      <td>[English]</td>\n",
       "      <td>1995</td>\n",
       "      <td>0.000000</td>\n",
       "      <td>[Walter Matthau, Jack Lemmon, Ann-Margret, Sop...</td>\n",
       "      <td>[Howard Deutch]</td>\n",
       "    </tr>\n",
       "  </tbody>\n",
       "</table>\n",
       "<p>3 rows × 22 columns</p>\n",
       "</div>"
      ],
      "text/plain": [
       "       budget     id original_language   \n",
       "0  30000000.0    862                en  \\\n",
       "1  65000000.0   8844                en   \n",
       "2         0.0  15602                en   \n",
       "\n",
       "                                            overview popularity release_date   \n",
       "0  Led by Woody, Andy's toys live happily in his ...  21.946943   1995-10-30  \\\n",
       "1  When siblings Judy and Peter discover an encha...  17.015539   1995-12-15   \n",
       "2  A family wedding reignites the ancient feud be...    11.7129   1995-12-22   \n",
       "\n",
       "       revenue  runtime    status   \n",
       "0  373554033.0     81.0  Released  \\\n",
       "1  262797249.0    104.0  Released   \n",
       "2          0.0    101.0  Released   \n",
       "\n",
       "                                             tagline  ... vote_count   \n",
       "0                                                NaN  ...     5415.0  \\\n",
       "1          Roll the dice and unleash the excitement!  ...     2413.0   \n",
       "2  Still Yelling. Still Fighting. Still Ready for...  ...       92.0   \n",
       "\n",
       "                    btc_name                        genres   \n",
       "0       Toy Story Collection   [Animation, Comedy, Family]  \\\n",
       "1                        noc  [Adventure, Fantasy, Family]   \n",
       "2  Grumpy Old Men Collection             [Romance, Comedy]   \n",
       "\n",
       "                                           companies   \n",
       "0                          [Pixar Animation Studios]  \\\n",
       "1  [TriStar Pictures, Teitler Film, Interscope Co...   \n",
       "2                     [Warner Bros., Lancaster Gate]   \n",
       "\n",
       "                    countries            languages release_year     return   \n",
       "0  [United States of America]            [English]         1995  12.451801  \\\n",
       "1  [United States of America]  [English, Français]         1995   4.043035   \n",
       "2  [United States of America]            [English]         1995   0.000000   \n",
       "\n",
       "                                                Cast        Directors  \n",
       "0  [Tom Hanks, Tim Allen, Don Rickles, Jim Varney...  [John Lasseter]  \n",
       "1  [Robin Williams, Jonathan Hyde, Kirsten Dunst,...   [Joe Johnston]  \n",
       "2  [Walter Matthau, Jack Lemmon, Ann-Margret, Sop...  [Howard Deutch]  \n",
       "\n",
       "[3 rows x 22 columns]"
      ]
     },
     "execution_count": 32,
     "metadata": {},
     "output_type": "execute_result"
    }
   ],
   "source": [
    "df_MoviesDataset.head(3)"
   ]
  },
  {
   "cell_type": "code",
   "execution_count": 33,
   "metadata": {},
   "outputs": [
    {
     "data": {
      "text/plain": [
       "budget                                                      50000000.0\n",
       "id                                                               11859\n",
       "original_language                                                   en\n",
       "overview             Max Kirkpatrick is a cop who protects Kate McQ...\n",
       "popularity                                                    5.912223\n",
       "release_date                                                1995-11-03\n",
       "revenue                                                     11534477.0\n",
       "runtime                                                           91.0\n",
       "status                                                        Released\n",
       "tagline              He's a cop on the edge. She's a woman with a d...\n",
       "title                                                        Fair Game\n",
       "vote_average                                                       4.1\n",
       "vote_count                                                        54.0\n",
       "btc_name                                                           noc\n",
       "genres                                     [Action, Thriller, Romance]\n",
       "companies                              [Silver Pictures, Warner Bros.]\n",
       "countries                                   [United States of America]\n",
       "languages                                           [English, Español]\n",
       "release_year                                                      1995\n",
       "return                                                         0.23069\n",
       "Cast                 [William Baldwin, Cindy Crawford, Steven Berko...\n",
       "Directors                                               [Andrew Sipes]\n",
       "Name: 69, dtype: object"
      ]
     },
     "execution_count": 33,
     "metadata": {},
     "output_type": "execute_result"
    }
   ],
   "source": [
    "df_MoviesDataset.iloc[69]"
   ]
  },
  {
   "cell_type": "markdown",
   "metadata": {},
   "source": [
    "### Borrar columnas innecesarias ###"
   ]
  },
  {
   "cell_type": "code",
   "execution_count": 34,
   "metadata": {},
   "outputs": [],
   "source": [
    "columnas_borrar2 = ['id', 'release_date', 'vote_average', 'status', \n",
    "                    'tagline', 'vote_count','languages', 'Cast']\n",
    "\n",
    "df_MoviesDataset = df_MoviesDataset.drop(columnas_borrar2, axis=1)"
   ]
  },
  {
   "cell_type": "code",
   "execution_count": 35,
   "metadata": {},
   "outputs": [
    {
     "name": "stdout",
     "output_type": "stream",
     "text": [
      "<class 'pandas.core.frame.DataFrame'>\n",
      "RangeIndex: 44510 entries, 0 to 44509\n",
      "Data columns (total 14 columns):\n",
      " #   Column             Non-Null Count  Dtype  \n",
      "---  ------             --------------  -----  \n",
      " 0   budget             44510 non-null  float64\n",
      " 1   original_language  44500 non-null  object \n",
      " 2   overview           44510 non-null  object \n",
      " 3   popularity         44510 non-null  object \n",
      " 4   revenue            44510 non-null  float64\n",
      " 5   runtime            44510 non-null  float64\n",
      " 6   title              44510 non-null  object \n",
      " 7   btc_name           44510 non-null  object \n",
      " 8   genres             44510 non-null  object \n",
      " 9   companies          44510 non-null  object \n",
      " 10  countries          44510 non-null  object \n",
      " 11  release_year       44510 non-null  int32  \n",
      " 12  return             44510 non-null  float64\n",
      " 13  Directors          44510 non-null  object \n",
      "dtypes: float64(4), int32(1), object(9)\n",
      "memory usage: 4.6+ MB\n"
     ]
    }
   ],
   "source": [
    "df_MoviesDataset.info()"
   ]
  },
  {
   "cell_type": "markdown",
   "metadata": {},
   "source": [
    "### Dataset pre-procesado ###\n",
    "Guardar el dataset pre-procesado 'df_MoviesDataset' a un archivo csv para posterior uso"
   ]
  },
  {
   "cell_type": "code",
   "execution_count": 36,
   "metadata": {},
   "outputs": [],
   "source": [
    "# Guardar DataFrame como archivo CSV\n",
    "df_MoviesDataset.to_csv('MoviesDataset_v41.csv', index=False)"
   ]
  }
 ],
 "metadata": {
  "kernelspec": {
   "display_name": "Python 3",
   "language": "python",
   "name": "python3"
  },
  "language_info": {
   "codemirror_mode": {
    "name": "ipython",
    "version": 3
   },
   "file_extension": ".py",
   "mimetype": "text/x-python",
   "name": "python",
   "nbconvert_exporter": "python",
   "pygments_lexer": "ipython3",
   "version": "3.11.3"
  },
  "orig_nbformat": 4
 },
 "nbformat": 4,
 "nbformat_minor": 2
}
